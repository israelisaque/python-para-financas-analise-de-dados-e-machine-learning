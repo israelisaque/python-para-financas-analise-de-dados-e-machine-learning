{
 "cells": [
  {
   "cell_type": "code",
   "execution_count": 2,
   "id": "b744efa1",
   "metadata": {},
   "outputs": [],
   "source": [
    "# Importação de Bibliotecas \n",
    "import pandas as pd\n",
    "import numpy as np\n",
    "from pandas_datareader import data\n",
    "import matplotlib.pyplot as plt\n",
    "import seaborn as sns\n",
    "import plotly.express as px"
   ]
  },
  {
   "cell_type": "markdown",
   "id": "404fafc9",
   "metadata": {},
   "source": [
    "### Taxa de Retorno Simples"
   ]
  },
  {
   "cell_type": "code",
   "execution_count": 3,
   "id": "b195aa8e",
   "metadata": {},
   "outputs": [],
   "source": [
    "dataset = pd.read_csv('../visualizacao_de_dados_financeiros/acoes.csv')"
   ]
  },
  {
   "cell_type": "code",
   "execution_count": 5,
   "id": "a0bc1bc9",
   "metadata": {},
   "outputs": [
    {
     "data": {
      "text/plain": [
       "(1946, 7)"
      ]
     },
     "execution_count": 5,
     "metadata": {},
     "output_type": "execute_result"
    }
   ],
   "source": [
    "dataset.shape"
   ]
  },
  {
   "cell_type": "code",
   "execution_count": 6,
   "id": "071cc391",
   "metadata": {},
   "outputs": [
    {
     "data": {
      "text/html": [
       "<div>\n",
       "<style scoped>\n",
       "    .dataframe tbody tr th:only-of-type {\n",
       "        vertical-align: middle;\n",
       "    }\n",
       "\n",
       "    .dataframe tbody tr th {\n",
       "        vertical-align: top;\n",
       "    }\n",
       "\n",
       "    .dataframe thead th {\n",
       "        text-align: right;\n",
       "    }\n",
       "</style>\n",
       "<table border=\"1\" class=\"dataframe\">\n",
       "  <thead>\n",
       "    <tr style=\"text-align: right;\">\n",
       "      <th></th>\n",
       "      <th>Date</th>\n",
       "      <th>GOL</th>\n",
       "      <th>CVC</th>\n",
       "      <th>WEGE</th>\n",
       "      <th>MGLU</th>\n",
       "      <th>TOTS</th>\n",
       "      <th>BOVA</th>\n",
       "    </tr>\n",
       "  </thead>\n",
       "  <tbody>\n",
       "    <tr>\n",
       "      <th>0</th>\n",
       "      <td>2015-01-02</td>\n",
       "      <td>14.99</td>\n",
       "      <td>15.20</td>\n",
       "      <td>5.923076</td>\n",
       "      <td>0.232812</td>\n",
       "      <td>11.910702</td>\n",
       "      <td>47.259998</td>\n",
       "    </tr>\n",
       "    <tr>\n",
       "      <th>1</th>\n",
       "      <td>2015-01-05</td>\n",
       "      <td>14.85</td>\n",
       "      <td>15.00</td>\n",
       "      <td>5.963461</td>\n",
       "      <td>0.237187</td>\n",
       "      <td>11.544731</td>\n",
       "      <td>46.320000</td>\n",
       "    </tr>\n",
       "    <tr>\n",
       "      <th>2</th>\n",
       "      <td>2015-01-06</td>\n",
       "      <td>15.21</td>\n",
       "      <td>14.80</td>\n",
       "      <td>5.875000</td>\n",
       "      <td>0.234062</td>\n",
       "      <td>10.822770</td>\n",
       "      <td>46.580002</td>\n",
       "    </tr>\n",
       "    <tr>\n",
       "      <th>3</th>\n",
       "      <td>2015-01-07</td>\n",
       "      <td>14.55</td>\n",
       "      <td>14.67</td>\n",
       "      <td>5.807692</td>\n",
       "      <td>0.241875</td>\n",
       "      <td>10.746248</td>\n",
       "      <td>48.150002</td>\n",
       "    </tr>\n",
       "    <tr>\n",
       "      <th>4</th>\n",
       "      <td>2015-01-08</td>\n",
       "      <td>14.27</td>\n",
       "      <td>14.15</td>\n",
       "      <td>5.905769</td>\n",
       "      <td>0.240000</td>\n",
       "      <td>10.995774</td>\n",
       "      <td>48.509998</td>\n",
       "    </tr>\n",
       "    <tr>\n",
       "      <th>...</th>\n",
       "      <td>...</td>\n",
       "      <td>...</td>\n",
       "      <td>...</td>\n",
       "      <td>...</td>\n",
       "      <td>...</td>\n",
       "      <td>...</td>\n",
       "      <td>...</td>\n",
       "    </tr>\n",
       "    <tr>\n",
       "      <th>1941</th>\n",
       "      <td>2022-10-24</td>\n",
       "      <td>9.37</td>\n",
       "      <td>6.87</td>\n",
       "      <td>34.919998</td>\n",
       "      <td>4.080000</td>\n",
       "      <td>31.100000</td>\n",
       "      <td>112.139999</td>\n",
       "    </tr>\n",
       "    <tr>\n",
       "      <th>1942</th>\n",
       "      <td>2022-10-25</td>\n",
       "      <td>8.84</td>\n",
       "      <td>6.69</td>\n",
       "      <td>35.049999</td>\n",
       "      <td>4.290000</td>\n",
       "      <td>30.059999</td>\n",
       "      <td>110.480003</td>\n",
       "    </tr>\n",
       "    <tr>\n",
       "      <th>1943</th>\n",
       "      <td>2022-10-26</td>\n",
       "      <td>8.19</td>\n",
       "      <td>6.18</td>\n",
       "      <td>37.980000</td>\n",
       "      <td>3.910000</td>\n",
       "      <td>29.420000</td>\n",
       "      <td>108.779999</td>\n",
       "    </tr>\n",
       "    <tr>\n",
       "      <th>1944</th>\n",
       "      <td>2022-10-27</td>\n",
       "      <td>8.62</td>\n",
       "      <td>6.38</td>\n",
       "      <td>38.830002</td>\n",
       "      <td>4.220000</td>\n",
       "      <td>30.760000</td>\n",
       "      <td>110.000000</td>\n",
       "    </tr>\n",
       "    <tr>\n",
       "      <th>1945</th>\n",
       "      <td>2022-10-28</td>\n",
       "      <td>8.83</td>\n",
       "      <td>6.54</td>\n",
       "      <td>38.470001</td>\n",
       "      <td>4.380000</td>\n",
       "      <td>31.719999</td>\n",
       "      <td>113.000000</td>\n",
       "    </tr>\n",
       "  </tbody>\n",
       "</table>\n",
       "<p>1946 rows × 7 columns</p>\n",
       "</div>"
      ],
      "text/plain": [
       "            Date    GOL    CVC       WEGE      MGLU       TOTS        BOVA\n",
       "0     2015-01-02  14.99  15.20   5.923076  0.232812  11.910702   47.259998\n",
       "1     2015-01-05  14.85  15.00   5.963461  0.237187  11.544731   46.320000\n",
       "2     2015-01-06  15.21  14.80   5.875000  0.234062  10.822770   46.580002\n",
       "3     2015-01-07  14.55  14.67   5.807692  0.241875  10.746248   48.150002\n",
       "4     2015-01-08  14.27  14.15   5.905769  0.240000  10.995774   48.509998\n",
       "...          ...    ...    ...        ...       ...        ...         ...\n",
       "1941  2022-10-24   9.37   6.87  34.919998  4.080000  31.100000  112.139999\n",
       "1942  2022-10-25   8.84   6.69  35.049999  4.290000  30.059999  110.480003\n",
       "1943  2022-10-26   8.19   6.18  37.980000  3.910000  29.420000  108.779999\n",
       "1944  2022-10-27   8.62   6.38  38.830002  4.220000  30.760000  110.000000\n",
       "1945  2022-10-28   8.83   6.54  38.470001  4.380000  31.719999  113.000000\n",
       "\n",
       "[1946 rows x 7 columns]"
      ]
     },
     "execution_count": 6,
     "metadata": {},
     "output_type": "execute_result"
    }
   ],
   "source": [
    "dataset"
   ]
  },
  {
   "cell_type": "code",
   "execution_count": 8,
   "id": "415febd2",
   "metadata": {},
   "outputs": [
    {
     "data": {
      "text/plain": [
       "(14.989999771118164, 8.829999923706055)"
      ]
     },
     "execution_count": 8,
     "metadata": {},
     "output_type": "execute_result"
    }
   ],
   "source": [
    "dataset['GOL'][0], dataset['GOL'][len(dataset) - 1]"
   ]
  },
  {
   "cell_type": "code",
   "execution_count": 10,
   "id": "5567deaa",
   "metadata": {},
   "outputs": [
    {
     "data": {
      "text/plain": [
       "-41.09406231800502"
      ]
     },
     "execution_count": 10,
     "metadata": {},
     "output_type": "execute_result"
    }
   ],
   "source": [
    "((dataset['GOL'][len(dataset) - 1] - dataset['GOL'][0]) / dataset['GOL'][0]) * 100"
   ]
  },
  {
   "cell_type": "code",
   "execution_count": 11,
   "id": "6a68bbb6",
   "metadata": {},
   "outputs": [
    {
     "data": {
      "text/plain": [
       "-56.973683921584126"
      ]
     },
     "execution_count": 11,
     "metadata": {},
     "output_type": "execute_result"
    }
   ],
   "source": [
    "((dataset['CVC'][len(dataset) - 1] - dataset['CVC'][0]) / dataset['CVC'][0]) * 100"
   ]
  },
  {
   "cell_type": "code",
   "execution_count": 12,
   "id": "7ca65c08",
   "metadata": {},
   "outputs": [
    {
     "data": {
      "text/plain": [
       "549.4936115671495"
      ]
     },
     "execution_count": 12,
     "metadata": {},
     "output_type": "execute_result"
    }
   ],
   "source": [
    "((dataset['WEGE'][len(dataset) - 1] - dataset['WEGE'][0]) / dataset['WEGE'][0]) * 100"
   ]
  },
  {
   "cell_type": "code",
   "execution_count": 14,
   "id": "8dadd31a",
   "metadata": {},
   "outputs": [
    {
     "data": {
      "text/plain": [
       "1781.3463529143999"
      ]
     },
     "execution_count": 14,
     "metadata": {},
     "output_type": "execute_result"
    }
   ],
   "source": [
    "((dataset['MGLU'][len(dataset) - 1] - dataset['MGLU'][0]) / dataset['MGLU'][0]) * 100"
   ]
  },
  {
   "cell_type": "code",
   "execution_count": 15,
   "id": "40ab9a06",
   "metadata": {},
   "outputs": [
    {
     "data": {
      "text/plain": [
       "166.31511706523256"
      ]
     },
     "execution_count": 15,
     "metadata": {},
     "output_type": "execute_result"
    }
   ],
   "source": [
    "((dataset['TOTS'][len(dataset) - 1] - dataset['TOTS'][0]) / dataset['TOTS'][0]) * 100"
   ]
  },
  {
   "cell_type": "code",
   "execution_count": 16,
   "id": "4ffa490b",
   "metadata": {},
   "outputs": [
    {
     "data": {
      "text/plain": [
       "139.10284387063444"
      ]
     },
     "execution_count": 16,
     "metadata": {},
     "output_type": "execute_result"
    }
   ],
   "source": [
    "((dataset['BOVA'][len(dataset) - 1] - dataset['BOVA'][0]) / dataset['BOVA'][0]) * 100"
   ]
  },
  {
   "cell_type": "code",
   "execution_count": 17,
   "id": "4a92dd00",
   "metadata": {},
   "outputs": [
    {
     "data": {
      "text/plain": [
       "139.10284387063444"
      ]
     },
     "execution_count": 17,
     "metadata": {},
     "output_type": "execute_result"
    }
   ],
   "source": [
    "(dataset['BOVA'][len(dataset) - 1] / dataset['BOVA'][0] -1) * 100"
   ]
  },
  {
   "cell_type": "markdown",
   "id": "42f7e81e",
   "metadata": {},
   "source": [
    "### Taxa de Retorno Diária"
   ]
  },
  {
   "cell_type": "code",
   "execution_count": 19,
   "id": "ca782d94",
   "metadata": {},
   "outputs": [
    {
     "data": {
      "text/plain": [
       "0       14.99\n",
       "1       14.85\n",
       "2       15.21\n",
       "3       14.55\n",
       "4       14.27\n",
       "        ...  \n",
       "1941     9.37\n",
       "1942     8.84\n",
       "1943     8.19\n",
       "1944     8.62\n",
       "1945     8.83\n",
       "Name: GOL, Length: 1946, dtype: float64"
      ]
     },
     "execution_count": 19,
     "metadata": {},
     "output_type": "execute_result"
    }
   ],
   "source": [
    "dataset['GOL']"
   ]
  },
  {
   "cell_type": "code",
   "execution_count": 20,
   "id": "6e317505",
   "metadata": {},
   "outputs": [
    {
     "data": {
      "text/plain": [
       "0         NaN\n",
       "1         NaN\n",
       "2       14.99\n",
       "3       14.85\n",
       "4       15.21\n",
       "        ...  \n",
       "1941     9.42\n",
       "1942     9.85\n",
       "1943     9.37\n",
       "1944     8.84\n",
       "1945     8.19\n",
       "Name: GOL, Length: 1946, dtype: float64"
      ]
     },
     "execution_count": 20,
     "metadata": {},
     "output_type": "execute_result"
    }
   ],
   "source": [
    "dataset['GOL'].shiftt(2)"
   ]
  },
  {
   "cell_type": "code",
   "execution_count": 23,
   "id": "2d1db4ac",
   "metadata": {},
   "outputs": [],
   "source": [
    "dataset['RS GOL'] = (dataset['GOL'] / dataset['GOL'].shift(1)) - 1"
   ]
  },
  {
   "cell_type": "code",
   "execution_count": 24,
   "id": "985f348c",
   "metadata": {},
   "outputs": [
    {
     "data": {
      "text/html": [
       "<div>\n",
       "<style scoped>\n",
       "    .dataframe tbody tr th:only-of-type {\n",
       "        vertical-align: middle;\n",
       "    }\n",
       "\n",
       "    .dataframe tbody tr th {\n",
       "        vertical-align: top;\n",
       "    }\n",
       "\n",
       "    .dataframe thead th {\n",
       "        text-align: right;\n",
       "    }\n",
       "</style>\n",
       "<table border=\"1\" class=\"dataframe\">\n",
       "  <thead>\n",
       "    <tr style=\"text-align: right;\">\n",
       "      <th></th>\n",
       "      <th>Date</th>\n",
       "      <th>GOL</th>\n",
       "      <th>CVC</th>\n",
       "      <th>WEGE</th>\n",
       "      <th>MGLU</th>\n",
       "      <th>TOTS</th>\n",
       "      <th>BOVA</th>\n",
       "      <th>RS GOL</th>\n",
       "    </tr>\n",
       "  </thead>\n",
       "  <tbody>\n",
       "    <tr>\n",
       "      <th>0</th>\n",
       "      <td>2015-01-02</td>\n",
       "      <td>14.99</td>\n",
       "      <td>15.20</td>\n",
       "      <td>5.923076</td>\n",
       "      <td>0.232812</td>\n",
       "      <td>11.910702</td>\n",
       "      <td>47.259998</td>\n",
       "      <td>NaN</td>\n",
       "    </tr>\n",
       "    <tr>\n",
       "      <th>1</th>\n",
       "      <td>2015-01-05</td>\n",
       "      <td>14.85</td>\n",
       "      <td>15.00</td>\n",
       "      <td>5.963461</td>\n",
       "      <td>0.237187</td>\n",
       "      <td>11.544731</td>\n",
       "      <td>46.320000</td>\n",
       "      <td>-0.009340</td>\n",
       "    </tr>\n",
       "    <tr>\n",
       "      <th>2</th>\n",
       "      <td>2015-01-06</td>\n",
       "      <td>15.21</td>\n",
       "      <td>14.80</td>\n",
       "      <td>5.875000</td>\n",
       "      <td>0.234062</td>\n",
       "      <td>10.822770</td>\n",
       "      <td>46.580002</td>\n",
       "      <td>0.024242</td>\n",
       "    </tr>\n",
       "    <tr>\n",
       "      <th>3</th>\n",
       "      <td>2015-01-07</td>\n",
       "      <td>14.55</td>\n",
       "      <td>14.67</td>\n",
       "      <td>5.807692</td>\n",
       "      <td>0.241875</td>\n",
       "      <td>10.746248</td>\n",
       "      <td>48.150002</td>\n",
       "      <td>-0.043392</td>\n",
       "    </tr>\n",
       "    <tr>\n",
       "      <th>4</th>\n",
       "      <td>2015-01-08</td>\n",
       "      <td>14.27</td>\n",
       "      <td>14.15</td>\n",
       "      <td>5.905769</td>\n",
       "      <td>0.240000</td>\n",
       "      <td>10.995774</td>\n",
       "      <td>48.509998</td>\n",
       "      <td>-0.019244</td>\n",
       "    </tr>\n",
       "    <tr>\n",
       "      <th>...</th>\n",
       "      <td>...</td>\n",
       "      <td>...</td>\n",
       "      <td>...</td>\n",
       "      <td>...</td>\n",
       "      <td>...</td>\n",
       "      <td>...</td>\n",
       "      <td>...</td>\n",
       "      <td>...</td>\n",
       "    </tr>\n",
       "    <tr>\n",
       "      <th>1941</th>\n",
       "      <td>2022-10-24</td>\n",
       "      <td>9.37</td>\n",
       "      <td>6.87</td>\n",
       "      <td>34.919998</td>\n",
       "      <td>4.080000</td>\n",
       "      <td>31.100000</td>\n",
       "      <td>112.139999</td>\n",
       "      <td>-0.048731</td>\n",
       "    </tr>\n",
       "    <tr>\n",
       "      <th>1942</th>\n",
       "      <td>2022-10-25</td>\n",
       "      <td>8.84</td>\n",
       "      <td>6.69</td>\n",
       "      <td>35.049999</td>\n",
       "      <td>4.290000</td>\n",
       "      <td>30.059999</td>\n",
       "      <td>110.480003</td>\n",
       "      <td>-0.056563</td>\n",
       "    </tr>\n",
       "    <tr>\n",
       "      <th>1943</th>\n",
       "      <td>2022-10-26</td>\n",
       "      <td>8.19</td>\n",
       "      <td>6.18</td>\n",
       "      <td>37.980000</td>\n",
       "      <td>3.910000</td>\n",
       "      <td>29.420000</td>\n",
       "      <td>108.779999</td>\n",
       "      <td>-0.073529</td>\n",
       "    </tr>\n",
       "    <tr>\n",
       "      <th>1944</th>\n",
       "      <td>2022-10-27</td>\n",
       "      <td>8.62</td>\n",
       "      <td>6.38</td>\n",
       "      <td>38.830002</td>\n",
       "      <td>4.220000</td>\n",
       "      <td>30.760000</td>\n",
       "      <td>110.000000</td>\n",
       "      <td>0.052503</td>\n",
       "    </tr>\n",
       "    <tr>\n",
       "      <th>1945</th>\n",
       "      <td>2022-10-28</td>\n",
       "      <td>8.83</td>\n",
       "      <td>6.54</td>\n",
       "      <td>38.470001</td>\n",
       "      <td>4.380000</td>\n",
       "      <td>31.719999</td>\n",
       "      <td>113.000000</td>\n",
       "      <td>0.024362</td>\n",
       "    </tr>\n",
       "  </tbody>\n",
       "</table>\n",
       "<p>1946 rows × 8 columns</p>\n",
       "</div>"
      ],
      "text/plain": [
       "            Date    GOL    CVC       WEGE      MGLU       TOTS        BOVA  \\\n",
       "0     2015-01-02  14.99  15.20   5.923076  0.232812  11.910702   47.259998   \n",
       "1     2015-01-05  14.85  15.00   5.963461  0.237187  11.544731   46.320000   \n",
       "2     2015-01-06  15.21  14.80   5.875000  0.234062  10.822770   46.580002   \n",
       "3     2015-01-07  14.55  14.67   5.807692  0.241875  10.746248   48.150002   \n",
       "4     2015-01-08  14.27  14.15   5.905769  0.240000  10.995774   48.509998   \n",
       "...          ...    ...    ...        ...       ...        ...         ...   \n",
       "1941  2022-10-24   9.37   6.87  34.919998  4.080000  31.100000  112.139999   \n",
       "1942  2022-10-25   8.84   6.69  35.049999  4.290000  30.059999  110.480003   \n",
       "1943  2022-10-26   8.19   6.18  37.980000  3.910000  29.420000  108.779999   \n",
       "1944  2022-10-27   8.62   6.38  38.830002  4.220000  30.760000  110.000000   \n",
       "1945  2022-10-28   8.83   6.54  38.470001  4.380000  31.719999  113.000000   \n",
       "\n",
       "        RS GOL  \n",
       "0          NaN  \n",
       "1    -0.009340  \n",
       "2     0.024242  \n",
       "3    -0.043392  \n",
       "4    -0.019244  \n",
       "...        ...  \n",
       "1941 -0.048731  \n",
       "1942 -0.056563  \n",
       "1943 -0.073529  \n",
       "1944  0.052503  \n",
       "1945  0.024362  \n",
       "\n",
       "[1946 rows x 8 columns]"
      ]
     },
     "execution_count": 24,
     "metadata": {},
     "output_type": "execute_result"
    }
   ],
   "source": [
    "dataset"
   ]
  },
  {
   "cell_type": "code",
   "execution_count": 26,
   "id": "74bb3c84",
   "metadata": {},
   "outputs": [
    {
     "data": {
      "image/png": "[encoded data removed]",
      "text/plain": [
       "<Figure size 432x288 with 1 Axes>"
      ]
     },
     "metadata": {
      "needs_background": "light"
     },
     "output_type": "display_data"
    }
   ],
   "source": [
    "dataset['RS GOL'].plot();"
   ]
  },
  {
   "cell_type": "code",
   "execution_count": 27,
   "id": "e53bb49a",
   "metadata": {},
   "outputs": [
    {
     "data": {
      "text/plain": [
       "0.0008845593067251758"
      ]
     },
     "execution_count": 27,
     "metadata": {},
     "output_type": "execute_result"
    }
   ],
   "source": [
    "dataset['RS GOL'].mean()"
   ]
  },
  {
   "cell_type": "markdown",
   "id": "da75f6d8",
   "metadata": {},
   "source": [
    "### Taxa de Retorno Anual"
   ]
  },
  {
   "cell_type": "code",
   "execution_count": 31,
   "id": "ecfd8316",
   "metadata": {},
   "outputs": [
    {
     "data": {
      "text/plain": [
       "21.760158945439326"
      ]
     },
     "execution_count": 31,
     "metadata": {},
     "output_type": "execute_result"
    }
   ],
   "source": [
    "(dataset['RS GOL'].mean() * 246) * 100"
   ]
  },
  {
   "cell_type": "code",
   "execution_count": 34,
   "id": "df68f731",
   "metadata": {},
   "outputs": [],
   "source": [
    "dataset['RS CVC'] = (dataset['CVC'] / dataset['CVC'].shift(1)) - 1\n",
    "dataset['RS WEGE'] = (dataset['WEGE'] / dataset['WEGE'].shift(1)) - 1\n",
    "dataset['RS MGLU'] = (dataset['MGLU'] / dataset['MGLU'].shift(1)) - 1\n",
    "dataset['RS TOTS'] = (dataset['TOTS'] / dataset['TOTS'].shift(1)) - 1\n",
    "dataset['RS BOVA'] = (dataset['BOVA'] / dataset['BOVA'].shift(1)) - 1"
   ]
  },
  {
   "cell_type": "code",
   "execution_count": 35,
   "id": "6da3fa2c",
   "metadata": {},
   "outputs": [
    {
     "data": {
      "text/html": [
       "<div>\n",
       "<style scoped>\n",
       "    .dataframe tbody tr th:only-of-type {\n",
       "        vertical-align: middle;\n",
       "    }\n",
       "\n",
       "    .dataframe tbody tr th {\n",
       "        vertical-align: top;\n",
       "    }\n",
       "\n",
       "    .dataframe thead th {\n",
       "        text-align: right;\n",
       "    }\n",
       "</style>\n",
       "<table border=\"1\" class=\"dataframe\">\n",
       "  <thead>\n",
       "    <tr style=\"text-align: right;\">\n",
       "      <th></th>\n",
       "      <th>Date</th>\n",
       "      <th>GOL</th>\n",
       "      <th>CVC</th>\n",
       "      <th>WEGE</th>\n",
       "      <th>MGLU</th>\n",
       "      <th>TOTS</th>\n",
       "      <th>BOVA</th>\n",
       "      <th>RS GOL</th>\n",
       "      <th>RS CVC</th>\n",
       "      <th>RS WEGE</th>\n",
       "      <th>RS MGLU</th>\n",
       "      <th>RS TOTS</th>\n",
       "      <th>RS BOVA</th>\n",
       "    </tr>\n",
       "  </thead>\n",
       "  <tbody>\n",
       "    <tr>\n",
       "      <th>0</th>\n",
       "      <td>2015-01-02</td>\n",
       "      <td>14.99</td>\n",
       "      <td>15.20</td>\n",
       "      <td>5.923076</td>\n",
       "      <td>0.232812</td>\n",
       "      <td>11.910702</td>\n",
       "      <td>47.259998</td>\n",
       "      <td>NaN</td>\n",
       "      <td>NaN</td>\n",
       "      <td>NaN</td>\n",
       "      <td>NaN</td>\n",
       "      <td>NaN</td>\n",
       "      <td>NaN</td>\n",
       "    </tr>\n",
       "    <tr>\n",
       "      <th>1</th>\n",
       "      <td>2015-01-05</td>\n",
       "      <td>14.85</td>\n",
       "      <td>15.00</td>\n",
       "      <td>5.963461</td>\n",
       "      <td>0.237187</td>\n",
       "      <td>11.544731</td>\n",
       "      <td>46.320000</td>\n",
       "      <td>-0.009340</td>\n",
       "      <td>-0.013158</td>\n",
       "      <td>0.006818</td>\n",
       "      <td>0.018792</td>\n",
       "      <td>-0.030726</td>\n",
       "      <td>-0.019890</td>\n",
       "    </tr>\n",
       "    <tr>\n",
       "      <th>2</th>\n",
       "      <td>2015-01-06</td>\n",
       "      <td>15.21</td>\n",
       "      <td>14.80</td>\n",
       "      <td>5.875000</td>\n",
       "      <td>0.234062</td>\n",
       "      <td>10.822770</td>\n",
       "      <td>46.580002</td>\n",
       "      <td>0.024242</td>\n",
       "      <td>-0.013333</td>\n",
       "      <td>-0.014834</td>\n",
       "      <td>-0.013175</td>\n",
       "      <td>-0.062536</td>\n",
       "      <td>0.005613</td>\n",
       "    </tr>\n",
       "    <tr>\n",
       "      <th>3</th>\n",
       "      <td>2015-01-07</td>\n",
       "      <td>14.55</td>\n",
       "      <td>14.67</td>\n",
       "      <td>5.807692</td>\n",
       "      <td>0.241875</td>\n",
       "      <td>10.746248</td>\n",
       "      <td>48.150002</td>\n",
       "      <td>-0.043392</td>\n",
       "      <td>-0.008784</td>\n",
       "      <td>-0.011457</td>\n",
       "      <td>0.033380</td>\n",
       "      <td>-0.007070</td>\n",
       "      <td>0.033705</td>\n",
       "    </tr>\n",
       "    <tr>\n",
       "      <th>4</th>\n",
       "      <td>2015-01-08</td>\n",
       "      <td>14.27</td>\n",
       "      <td>14.15</td>\n",
       "      <td>5.905769</td>\n",
       "      <td>0.240000</td>\n",
       "      <td>10.995774</td>\n",
       "      <td>48.509998</td>\n",
       "      <td>-0.019244</td>\n",
       "      <td>-0.035447</td>\n",
       "      <td>0.016887</td>\n",
       "      <td>-0.007752</td>\n",
       "      <td>0.023220</td>\n",
       "      <td>0.007477</td>\n",
       "    </tr>\n",
       "    <tr>\n",
       "      <th>...</th>\n",
       "      <td>...</td>\n",
       "      <td>...</td>\n",
       "      <td>...</td>\n",
       "      <td>...</td>\n",
       "      <td>...</td>\n",
       "      <td>...</td>\n",
       "      <td>...</td>\n",
       "      <td>...</td>\n",
       "      <td>...</td>\n",
       "      <td>...</td>\n",
       "      <td>...</td>\n",
       "      <td>...</td>\n",
       "      <td>...</td>\n",
       "    </tr>\n",
       "    <tr>\n",
       "      <th>1941</th>\n",
       "      <td>2022-10-24</td>\n",
       "      <td>9.37</td>\n",
       "      <td>6.87</td>\n",
       "      <td>34.919998</td>\n",
       "      <td>4.080000</td>\n",
       "      <td>31.100000</td>\n",
       "      <td>112.139999</td>\n",
       "      <td>-0.048731</td>\n",
       "      <td>0.011782</td>\n",
       "      <td>-0.007955</td>\n",
       "      <td>-0.016868</td>\n",
       "      <td>-0.006707</td>\n",
       "      <td>-0.036846</td>\n",
       "    </tr>\n",
       "    <tr>\n",
       "      <th>1942</th>\n",
       "      <td>2022-10-25</td>\n",
       "      <td>8.84</td>\n",
       "      <td>6.69</td>\n",
       "      <td>35.049999</td>\n",
       "      <td>4.290000</td>\n",
       "      <td>30.059999</td>\n",
       "      <td>110.480003</td>\n",
       "      <td>-0.056563</td>\n",
       "      <td>-0.026201</td>\n",
       "      <td>0.003723</td>\n",
       "      <td>0.051471</td>\n",
       "      <td>-0.033441</td>\n",
       "      <td>-0.014803</td>\n",
       "    </tr>\n",
       "    <tr>\n",
       "      <th>1943</th>\n",
       "      <td>2022-10-26</td>\n",
       "      <td>8.19</td>\n",
       "      <td>6.18</td>\n",
       "      <td>37.980000</td>\n",
       "      <td>3.910000</td>\n",
       "      <td>29.420000</td>\n",
       "      <td>108.779999</td>\n",
       "      <td>-0.073529</td>\n",
       "      <td>-0.076233</td>\n",
       "      <td>0.083595</td>\n",
       "      <td>-0.088578</td>\n",
       "      <td>-0.021291</td>\n",
       "      <td>-0.015387</td>\n",
       "    </tr>\n",
       "    <tr>\n",
       "      <th>1944</th>\n",
       "      <td>2022-10-27</td>\n",
       "      <td>8.62</td>\n",
       "      <td>6.38</td>\n",
       "      <td>38.830002</td>\n",
       "      <td>4.220000</td>\n",
       "      <td>30.760000</td>\n",
       "      <td>110.000000</td>\n",
       "      <td>0.052503</td>\n",
       "      <td>0.032363</td>\n",
       "      <td>0.022380</td>\n",
       "      <td>0.079284</td>\n",
       "      <td>0.045547</td>\n",
       "      <td>0.011215</td>\n",
       "    </tr>\n",
       "    <tr>\n",
       "      <th>1945</th>\n",
       "      <td>2022-10-28</td>\n",
       "      <td>8.83</td>\n",
       "      <td>6.54</td>\n",
       "      <td>38.470001</td>\n",
       "      <td>4.380000</td>\n",
       "      <td>31.719999</td>\n",
       "      <td>113.000000</td>\n",
       "      <td>0.024362</td>\n",
       "      <td>0.025078</td>\n",
       "      <td>-0.009271</td>\n",
       "      <td>0.037915</td>\n",
       "      <td>0.031209</td>\n",
       "      <td>0.027273</td>\n",
       "    </tr>\n",
       "  </tbody>\n",
       "</table>\n",
       "<p>1946 rows × 13 columns</p>\n",
       "</div>"
      ],
      "text/plain": [
       "            Date    GOL    CVC       WEGE      MGLU       TOTS        BOVA  \\\n",
       "0     2015-01-02  14.99  15.20   5.923076  0.232812  11.910702   47.259998   \n",
       "1     2015-01-05  14.85  15.00   5.963461  0.237187  11.544731   46.320000   \n",
       "2     2015-01-06  15.21  14.80   5.875000  0.234062  10.822770   46.580002   \n",
       "3     2015-01-07  14.55  14.67   5.807692  0.241875  10.746248   48.150002   \n",
       "4     2015-01-08  14.27  14.15   5.905769  0.240000  10.995774   48.509998   \n",
       "...          ...    ...    ...        ...       ...        ...         ...   \n",
       "1941  2022-10-24   9.37   6.87  34.919998  4.080000  31.100000  112.139999   \n",
       "1942  2022-10-25   8.84   6.69  35.049999  4.290000  30.059999  110.480003   \n",
       "1943  2022-10-26   8.19   6.18  37.980000  3.910000  29.420000  108.779999   \n",
       "1944  2022-10-27   8.62   6.38  38.830002  4.220000  30.760000  110.000000   \n",
       "1945  2022-10-28   8.83   6.54  38.470001  4.380000  31.719999  113.000000   \n",
       "\n",
       "        RS GOL    RS CVC   RS WEGE   RS MGLU   RS TOTS   RS BOVA  \n",
       "0          NaN       NaN       NaN       NaN       NaN       NaN  \n",
       "1    -0.009340 -0.013158  0.006818  0.018792 -0.030726 -0.019890  \n",
       "2     0.024242 -0.013333 -0.014834 -0.013175 -0.062536  0.005613  \n",
       "3    -0.043392 -0.008784 -0.011457  0.033380 -0.007070  0.033705  \n",
       "4    -0.019244 -0.035447  0.016887 -0.007752  0.023220  0.007477  \n",
       "...        ...       ...       ...       ...       ...       ...  \n",
       "1941 -0.048731  0.011782 -0.007955 -0.016868 -0.006707 -0.036846  \n",
       "1942 -0.056563 -0.026201  0.003723  0.051471 -0.033441 -0.014803  \n",
       "1943 -0.073529 -0.076233  0.083595 -0.088578 -0.021291 -0.015387  \n",
       "1944  0.052503  0.032363  0.022380  0.079284  0.045547  0.011215  \n",
       "1945  0.024362  0.025078 -0.009271  0.037915  0.031209  0.027273  \n",
       "\n",
       "[1946 rows x 13 columns]"
      ]
     },
     "execution_count": 35,
     "metadata": {},
     "output_type": "execute_result"
    }
   ],
   "source": [
    "dataset"
   ]
  },
  {
   "cell_type": "code",
   "execution_count": 36,
   "id": "43c1130f",
   "metadata": {},
   "outputs": [
    {
     "data": {
      "text/plain": [
       "6.16887671535755"
      ]
     },
     "execution_count": 36,
     "metadata": {},
     "output_type": "execute_result"
    }
   ],
   "source": [
    "(dataset['RS CVC'].mean() * 246) * 100"
   ]
  },
  {
   "cell_type": "code",
   "execution_count": 37,
   "id": "fbff56cf",
   "metadata": {},
   "outputs": [
    {
     "data": {
      "text/plain": [
       "29.77115253916963"
      ]
     },
     "execution_count": 37,
     "metadata": {},
     "output_type": "execute_result"
    }
   ],
   "source": [
    "(dataset['RS WEGE'].mean() * 246) * 100"
   ]
  },
  {
   "cell_type": "code",
   "execution_count": 38,
   "id": "21068d38",
   "metadata": {},
   "outputs": [
    {
     "data": {
      "text/plain": [
       "58.57902606967046"
      ]
     },
     "execution_count": 38,
     "metadata": {},
     "output_type": "execute_result"
    }
   ],
   "source": [
    "(dataset['RS MGLU'].mean() * 246) * 100"
   ]
  },
  {
   "cell_type": "code",
   "execution_count": 39,
   "id": "3e41f378",
   "metadata": {},
   "outputs": [
    {
     "data": {
      "text/plain": [
       "19.823821338582142"
      ]
     },
     "execution_count": 39,
     "metadata": {},
     "output_type": "execute_result"
    }
   ],
   "source": [
    "(dataset['RS TOTS'].mean() * 246) * 100"
   ]
  },
  {
   "cell_type": "code",
   "execution_count": 40,
   "id": "8bf33e0e",
   "metadata": {},
   "outputs": [
    {
     "data": {
      "text/plain": [
       "14.364974363720103"
      ]
     },
     "execution_count": 40,
     "metadata": {},
     "output_type": "execute_result"
    }
   ],
   "source": [
    "(dataset['RS BOVA'].mean() * 246) * 100"
   ]
  },
  {
   "cell_type": "markdown",
   "id": "b27697cf",
   "metadata": {},
   "source": [
    "### Taxa de Retorno Logarítmica"
   ]
  },
  {
   "cell_type": "code",
   "execution_count": 41,
   "id": "740b88f6",
   "metadata": {},
   "outputs": [
    {
     "data": {
      "text/plain": [
       "(14.989999771118164, 8.829999923706055)"
      ]
     },
     "execution_count": 41,
     "metadata": {},
     "output_type": "execute_result"
    }
   ],
   "source": [
    "dataset['GOL'][0], dataset['GOL'][len(dataset) -1]"
   ]
  },
  {
   "cell_type": "code",
   "execution_count": 42,
   "id": "d173a24f",
   "metadata": {},
   "outputs": [
    {
     "data": {
      "text/plain": [
       "-52.92282908699802"
      ]
     },
     "execution_count": 42,
     "metadata": {},
     "output_type": "execute_result"
    }
   ],
   "source": [
    "np.log(dataset['GOL'][len(dataset) -1] / dataset['GOL'][0]) * 100"
   ]
  },
  {
   "cell_type": "code",
   "execution_count": 47,
   "id": "9b8fa8a1",
   "metadata": {},
   "outputs": [
    {
     "data": {
      "text/plain": [
       "-84.33582556676474"
      ]
     },
     "execution_count": 47,
     "metadata": {},
     "output_type": "execute_result"
    }
   ],
   "source": [
    "np.log(dataset['CVC'][len(dataset) -1] / dataset['CVC'][0]) * 100"
   ]
  },
  {
   "cell_type": "code",
   "execution_count": 48,
   "id": "edc6d6bd",
   "metadata": {},
   "outputs": [
    {
     "data": {
      "text/plain": [
       "187.10228141498627"
      ]
     },
     "execution_count": 48,
     "metadata": {},
     "output_type": "execute_result"
    }
   ],
   "source": [
    "np.log(dataset['WEGE'][len(dataset) -1] / dataset['WEGE'][0]) * 100"
   ]
  },
  {
   "cell_type": "code",
   "execution_count": 49,
   "id": "f3f3bce1",
   "metadata": {},
   "outputs": [
    {
     "data": {
      "text/plain": [
       "293.457275869355"
      ]
     },
     "execution_count": 49,
     "metadata": {},
     "output_type": "execute_result"
    }
   ],
   "source": [
    "np.log(dataset['MGLU'][len(dataset) -1] / dataset['MGLU'][0]) * 100"
   ]
  },
  {
   "cell_type": "code",
   "execution_count": 50,
   "id": "408e9118",
   "metadata": {},
   "outputs": [
    {
     "data": {
      "text/plain": [
       "97.95100722699222"
      ]
     },
     "execution_count": 50,
     "metadata": {},
     "output_type": "execute_result"
    }
   ],
   "source": [
    "np.log(dataset['TOTS'][len(dataset) -1] / dataset['TOTS'][0]) * 100"
   ]
  },
  {
   "cell_type": "code",
   "execution_count": 51,
   "id": "7fc75694",
   "metadata": {},
   "outputs": [
    {
     "data": {
      "text/plain": [
       "87.17235824691697"
      ]
     },
     "execution_count": 51,
     "metadata": {},
     "output_type": "execute_result"
    }
   ],
   "source": [
    "np.log(dataset['BOVA'][len(dataset) -1] / dataset['BOVA'][0]) * 100"
   ]
  },
  {
   "cell_type": "code",
   "execution_count": 53,
   "id": "6ca7919b",
   "metadata": {},
   "outputs": [
    {
     "data": {
      "text/html": [
       "<div>\n",
       "<style scoped>\n",
       "    .dataframe tbody tr th:only-of-type {\n",
       "        vertical-align: middle;\n",
       "    }\n",
       "\n",
       "    .dataframe tbody tr th {\n",
       "        vertical-align: top;\n",
       "    }\n",
       "\n",
       "    .dataframe thead th {\n",
       "        text-align: right;\n",
       "    }\n",
       "</style>\n",
       "<table border=\"1\" class=\"dataframe\">\n",
       "  <thead>\n",
       "    <tr style=\"text-align: right;\">\n",
       "      <th></th>\n",
       "      <th>Date</th>\n",
       "      <th>GOL</th>\n",
       "      <th>CVC</th>\n",
       "      <th>WEGE</th>\n",
       "      <th>MGLU</th>\n",
       "      <th>TOTS</th>\n",
       "      <th>BOVA</th>\n",
       "      <th>RS GOL</th>\n",
       "      <th>RS CVC</th>\n",
       "      <th>RS WEGE</th>\n",
       "      <th>RS MGLU</th>\n",
       "      <th>RS TOTS</th>\n",
       "      <th>RS BOVA</th>\n",
       "      <th>RL GOL</th>\n",
       "    </tr>\n",
       "  </thead>\n",
       "  <tbody>\n",
       "    <tr>\n",
       "      <th>0</th>\n",
       "      <td>2015-01-02</td>\n",
       "      <td>14.99</td>\n",
       "      <td>15.20</td>\n",
       "      <td>5.923076</td>\n",
       "      <td>0.232812</td>\n",
       "      <td>11.910702</td>\n",
       "      <td>47.259998</td>\n",
       "      <td>NaN</td>\n",
       "      <td>NaN</td>\n",
       "      <td>NaN</td>\n",
       "      <td>NaN</td>\n",
       "      <td>NaN</td>\n",
       "      <td>NaN</td>\n",
       "      <td>NaN</td>\n",
       "    </tr>\n",
       "    <tr>\n",
       "      <th>1</th>\n",
       "      <td>2015-01-05</td>\n",
       "      <td>14.85</td>\n",
       "      <td>15.00</td>\n",
       "      <td>5.963461</td>\n",
       "      <td>0.237187</td>\n",
       "      <td>11.544731</td>\n",
       "      <td>46.320000</td>\n",
       "      <td>-0.009340</td>\n",
       "      <td>-0.013158</td>\n",
       "      <td>0.006818</td>\n",
       "      <td>0.018792</td>\n",
       "      <td>-0.030726</td>\n",
       "      <td>-0.019890</td>\n",
       "      <td>-0.009383</td>\n",
       "    </tr>\n",
       "    <tr>\n",
       "      <th>2</th>\n",
       "      <td>2015-01-06</td>\n",
       "      <td>15.21</td>\n",
       "      <td>14.80</td>\n",
       "      <td>5.875000</td>\n",
       "      <td>0.234062</td>\n",
       "      <td>10.822770</td>\n",
       "      <td>46.580002</td>\n",
       "      <td>0.024242</td>\n",
       "      <td>-0.013333</td>\n",
       "      <td>-0.014834</td>\n",
       "      <td>-0.013175</td>\n",
       "      <td>-0.062536</td>\n",
       "      <td>0.005613</td>\n",
       "      <td>0.023953</td>\n",
       "    </tr>\n",
       "    <tr>\n",
       "      <th>3</th>\n",
       "      <td>2015-01-07</td>\n",
       "      <td>14.55</td>\n",
       "      <td>14.67</td>\n",
       "      <td>5.807692</td>\n",
       "      <td>0.241875</td>\n",
       "      <td>10.746248</td>\n",
       "      <td>48.150002</td>\n",
       "      <td>-0.043392</td>\n",
       "      <td>-0.008784</td>\n",
       "      <td>-0.011457</td>\n",
       "      <td>0.033380</td>\n",
       "      <td>-0.007070</td>\n",
       "      <td>0.033705</td>\n",
       "      <td>-0.044362</td>\n",
       "    </tr>\n",
       "    <tr>\n",
       "      <th>4</th>\n",
       "      <td>2015-01-08</td>\n",
       "      <td>14.27</td>\n",
       "      <td>14.15</td>\n",
       "      <td>5.905769</td>\n",
       "      <td>0.240000</td>\n",
       "      <td>10.995774</td>\n",
       "      <td>48.509998</td>\n",
       "      <td>-0.019244</td>\n",
       "      <td>-0.035447</td>\n",
       "      <td>0.016887</td>\n",
       "      <td>-0.007752</td>\n",
       "      <td>0.023220</td>\n",
       "      <td>0.007477</td>\n",
       "      <td>-0.019432</td>\n",
       "    </tr>\n",
       "    <tr>\n",
       "      <th>...</th>\n",
       "      <td>...</td>\n",
       "      <td>...</td>\n",
       "      <td>...</td>\n",
       "      <td>...</td>\n",
       "      <td>...</td>\n",
       "      <td>...</td>\n",
       "      <td>...</td>\n",
       "      <td>...</td>\n",
       "      <td>...</td>\n",
       "      <td>...</td>\n",
       "      <td>...</td>\n",
       "      <td>...</td>\n",
       "      <td>...</td>\n",
       "      <td>...</td>\n",
       "    </tr>\n",
       "    <tr>\n",
       "      <th>1941</th>\n",
       "      <td>2022-10-24</td>\n",
       "      <td>9.37</td>\n",
       "      <td>6.87</td>\n",
       "      <td>34.919998</td>\n",
       "      <td>4.080000</td>\n",
       "      <td>31.100000</td>\n",
       "      <td>112.139999</td>\n",
       "      <td>-0.048731</td>\n",
       "      <td>0.011782</td>\n",
       "      <td>-0.007955</td>\n",
       "      <td>-0.016868</td>\n",
       "      <td>-0.006707</td>\n",
       "      <td>-0.036846</td>\n",
       "      <td>-0.049958</td>\n",
       "    </tr>\n",
       "    <tr>\n",
       "      <th>1942</th>\n",
       "      <td>2022-10-25</td>\n",
       "      <td>8.84</td>\n",
       "      <td>6.69</td>\n",
       "      <td>35.049999</td>\n",
       "      <td>4.290000</td>\n",
       "      <td>30.059999</td>\n",
       "      <td>110.480003</td>\n",
       "      <td>-0.056563</td>\n",
       "      <td>-0.026201</td>\n",
       "      <td>0.003723</td>\n",
       "      <td>0.051471</td>\n",
       "      <td>-0.033441</td>\n",
       "      <td>-0.014803</td>\n",
       "      <td>-0.058226</td>\n",
       "    </tr>\n",
       "    <tr>\n",
       "      <th>1943</th>\n",
       "      <td>2022-10-26</td>\n",
       "      <td>8.19</td>\n",
       "      <td>6.18</td>\n",
       "      <td>37.980000</td>\n",
       "      <td>3.910000</td>\n",
       "      <td>29.420000</td>\n",
       "      <td>108.779999</td>\n",
       "      <td>-0.073529</td>\n",
       "      <td>-0.076233</td>\n",
       "      <td>0.083595</td>\n",
       "      <td>-0.088578</td>\n",
       "      <td>-0.021291</td>\n",
       "      <td>-0.015387</td>\n",
       "      <td>-0.076373</td>\n",
       "    </tr>\n",
       "    <tr>\n",
       "      <th>1944</th>\n",
       "      <td>2022-10-27</td>\n",
       "      <td>8.62</td>\n",
       "      <td>6.38</td>\n",
       "      <td>38.830002</td>\n",
       "      <td>4.220000</td>\n",
       "      <td>30.760000</td>\n",
       "      <td>110.000000</td>\n",
       "      <td>0.052503</td>\n",
       "      <td>0.032363</td>\n",
       "      <td>0.022380</td>\n",
       "      <td>0.079284</td>\n",
       "      <td>0.045547</td>\n",
       "      <td>0.011215</td>\n",
       "      <td>0.051171</td>\n",
       "    </tr>\n",
       "    <tr>\n",
       "      <th>1945</th>\n",
       "      <td>2022-10-28</td>\n",
       "      <td>8.83</td>\n",
       "      <td>6.54</td>\n",
       "      <td>38.470001</td>\n",
       "      <td>4.380000</td>\n",
       "      <td>31.719999</td>\n",
       "      <td>113.000000</td>\n",
       "      <td>0.024362</td>\n",
       "      <td>0.025078</td>\n",
       "      <td>-0.009271</td>\n",
       "      <td>0.037915</td>\n",
       "      <td>0.031209</td>\n",
       "      <td>0.027273</td>\n",
       "      <td>0.024070</td>\n",
       "    </tr>\n",
       "  </tbody>\n",
       "</table>\n",
       "<p>1946 rows × 14 columns</p>\n",
       "</div>"
      ],
      "text/plain": [
       "            Date    GOL    CVC       WEGE      MGLU       TOTS        BOVA  \\\n",
       "0     2015-01-02  14.99  15.20   5.923076  0.232812  11.910702   47.259998   \n",
       "1     2015-01-05  14.85  15.00   5.963461  0.237187  11.544731   46.320000   \n",
       "2     2015-01-06  15.21  14.80   5.875000  0.234062  10.822770   46.580002   \n",
       "3     2015-01-07  14.55  14.67   5.807692  0.241875  10.746248   48.150002   \n",
       "4     2015-01-08  14.27  14.15   5.905769  0.240000  10.995774   48.509998   \n",
       "...          ...    ...    ...        ...       ...        ...         ...   \n",
       "1941  2022-10-24   9.37   6.87  34.919998  4.080000  31.100000  112.139999   \n",
       "1942  2022-10-25   8.84   6.69  35.049999  4.290000  30.059999  110.480003   \n",
       "1943  2022-10-26   8.19   6.18  37.980000  3.910000  29.420000  108.779999   \n",
       "1944  2022-10-27   8.62   6.38  38.830002  4.220000  30.760000  110.000000   \n",
       "1945  2022-10-28   8.83   6.54  38.470001  4.380000  31.719999  113.000000   \n",
       "\n",
       "        RS GOL    RS CVC   RS WEGE   RS MGLU   RS TOTS   RS BOVA    RL GOL  \n",
       "0          NaN       NaN       NaN       NaN       NaN       NaN       NaN  \n",
       "1    -0.009340 -0.013158  0.006818  0.018792 -0.030726 -0.019890 -0.009383  \n",
       "2     0.024242 -0.013333 -0.014834 -0.013175 -0.062536  0.005613  0.023953  \n",
       "3    -0.043392 -0.008784 -0.011457  0.033380 -0.007070  0.033705 -0.044362  \n",
       "4    -0.019244 -0.035447  0.016887 -0.007752  0.023220  0.007477 -0.019432  \n",
       "...        ...       ...       ...       ...       ...       ...       ...  \n",
       "1941 -0.048731  0.011782 -0.007955 -0.016868 -0.006707 -0.036846 -0.049958  \n",
       "1942 -0.056563 -0.026201  0.003723  0.051471 -0.033441 -0.014803 -0.058226  \n",
       "1943 -0.073529 -0.076233  0.083595 -0.088578 -0.021291 -0.015387 -0.076373  \n",
       "1944  0.052503  0.032363  0.022380  0.079284  0.045547  0.011215  0.051171  \n",
       "1945  0.024362  0.025078 -0.009271  0.037915  0.031209  0.027273  0.024070  \n",
       "\n",
       "[1946 rows x 14 columns]"
      ]
     },
     "execution_count": 53,
     "metadata": {},
     "output_type": "execute_result"
    }
   ],
   "source": [
    "dataset['RL GOL'] = np.log(dataset['GOL'] / dataset['GOL'].shift(1))\n",
    "dataset"
   ]
  },
  {
   "cell_type": "code",
   "execution_count": 56,
   "id": "acbd189c",
   "metadata": {},
   "outputs": [
    {
     "data": {
      "image/png": "[encoded data removed]",
      "text/plain": [
       "<Figure size 432x288 with 1 Axes>"
      ]
     },
     "metadata": {
      "needs_background": "light"
     },
     "output_type": "display_data"
    }
   ],
   "source": [
    "dataset['RL GOL'].plot();"
   ]
  },
  {
   "cell_type": "code",
   "execution_count": 57,
   "id": "fe02b306",
   "metadata": {},
   "outputs": [
    {
     "data": {
      "text/plain": [
       "-0.0002720968076452361"
      ]
     },
     "execution_count": 57,
     "metadata": {},
     "output_type": "execute_result"
    }
   ],
   "source": [
    "dataset['RL GOL'].mean()"
   ]
  },
  {
   "cell_type": "code",
   "execution_count": 58,
   "id": "0902eba6",
   "metadata": {},
   "outputs": [
    {
     "data": {
      "text/plain": [
       "-6.693581468072808"
      ]
     },
     "execution_count": 58,
     "metadata": {},
     "output_type": "execute_result"
    }
   ],
   "source": [
    "(dataset['RL GOL'].mean() * 246) * 100"
   ]
  },
  {
   "cell_type": "code",
   "execution_count": 59,
   "id": "e45bc61c",
   "metadata": {},
   "outputs": [],
   "source": [
    "dataset['RL CVC'] = np.log(dataset['CVC'] / dataset['CVC'].shift(1))\n",
    "dataset['RL WEGE'] = np.log(dataset['WEGE'] / dataset['WEGE'].shift(1))\n",
    "dataset['RL MGLU'] = np.log(dataset['MGLU'] / dataset['MGLU'].shift(1))\n",
    "dataset['RL TOTS'] = np.log(dataset['TOTS'] / dataset['TOTS'].shift(1))\n",
    "dataset['RL BOVA'] = np.log(dataset['BOVA'] / dataset['BOVA'].shift(1))"
   ]
  },
  {
   "cell_type": "code",
   "execution_count": 60,
   "id": "97455a7b",
   "metadata": {},
   "outputs": [
    {
     "data": {
      "text/html": [
       "<div>\n",
       "<style scoped>\n",
       "    .dataframe tbody tr th:only-of-type {\n",
       "        vertical-align: middle;\n",
       "    }\n",
       "\n",
       "    .dataframe tbody tr th {\n",
       "        vertical-align: top;\n",
       "    }\n",
       "\n",
       "    .dataframe thead th {\n",
       "        text-align: right;\n",
       "    }\n",
       "</style>\n",
       "<table border=\"1\" class=\"dataframe\">\n",
       "  <thead>\n",
       "    <tr style=\"text-align: right;\">\n",
       "      <th></th>\n",
       "      <th>Date</th>\n",
       "      <th>GOL</th>\n",
       "      <th>CVC</th>\n",
       "      <th>WEGE</th>\n",
       "      <th>MGLU</th>\n",
       "      <th>TOTS</th>\n",
       "      <th>BOVA</th>\n",
       "      <th>RS GOL</th>\n",
       "      <th>RS CVC</th>\n",
       "      <th>RS WEGE</th>\n",
       "      <th>RS MGLU</th>\n",
       "      <th>RS TOTS</th>\n",
       "      <th>RS BOVA</th>\n",
       "      <th>RL GOL</th>\n",
       "      <th>RL CVC</th>\n",
       "      <th>RL WEGE</th>\n",
       "      <th>RL MGLU</th>\n",
       "      <th>RL TOTS</th>\n",
       "      <th>RL BOVA</th>\n",
       "    </tr>\n",
       "  </thead>\n",
       "  <tbody>\n",
       "    <tr>\n",
       "      <th>0</th>\n",
       "      <td>2015-01-02</td>\n",
       "      <td>14.99</td>\n",
       "      <td>15.20</td>\n",
       "      <td>5.923076</td>\n",
       "      <td>0.232812</td>\n",
       "      <td>11.910702</td>\n",
       "      <td>47.259998</td>\n",
       "      <td>NaN</td>\n",
       "      <td>NaN</td>\n",
       "      <td>NaN</td>\n",
       "      <td>NaN</td>\n",
       "      <td>NaN</td>\n",
       "      <td>NaN</td>\n",
       "      <td>NaN</td>\n",
       "      <td>NaN</td>\n",
       "      <td>NaN</td>\n",
       "      <td>NaN</td>\n",
       "      <td>NaN</td>\n",
       "      <td>NaN</td>\n",
       "    </tr>\n",
       "    <tr>\n",
       "      <th>1</th>\n",
       "      <td>2015-01-05</td>\n",
       "      <td>14.85</td>\n",
       "      <td>15.00</td>\n",
       "      <td>5.963461</td>\n",
       "      <td>0.237187</td>\n",
       "      <td>11.544731</td>\n",
       "      <td>46.320000</td>\n",
       "      <td>-0.009340</td>\n",
       "      <td>-0.013158</td>\n",
       "      <td>0.006818</td>\n",
       "      <td>0.018792</td>\n",
       "      <td>-0.030726</td>\n",
       "      <td>-0.019890</td>\n",
       "      <td>-0.009383</td>\n",
       "      <td>-0.013245</td>\n",
       "      <td>0.006795</td>\n",
       "      <td>0.018618</td>\n",
       "      <td>-0.031208</td>\n",
       "      <td>-0.020090</td>\n",
       "    </tr>\n",
       "    <tr>\n",
       "      <th>2</th>\n",
       "      <td>2015-01-06</td>\n",
       "      <td>15.21</td>\n",
       "      <td>14.80</td>\n",
       "      <td>5.875000</td>\n",
       "      <td>0.234062</td>\n",
       "      <td>10.822770</td>\n",
       "      <td>46.580002</td>\n",
       "      <td>0.024242</td>\n",
       "      <td>-0.013333</td>\n",
       "      <td>-0.014834</td>\n",
       "      <td>-0.013175</td>\n",
       "      <td>-0.062536</td>\n",
       "      <td>0.005613</td>\n",
       "      <td>0.023953</td>\n",
       "      <td>-0.013423</td>\n",
       "      <td>-0.014945</td>\n",
       "      <td>-0.013263</td>\n",
       "      <td>-0.064577</td>\n",
       "      <td>0.005597</td>\n",
       "    </tr>\n",
       "    <tr>\n",
       "      <th>3</th>\n",
       "      <td>2015-01-07</td>\n",
       "      <td>14.55</td>\n",
       "      <td>14.67</td>\n",
       "      <td>5.807692</td>\n",
       "      <td>0.241875</td>\n",
       "      <td>10.746248</td>\n",
       "      <td>48.150002</td>\n",
       "      <td>-0.043392</td>\n",
       "      <td>-0.008784</td>\n",
       "      <td>-0.011457</td>\n",
       "      <td>0.033380</td>\n",
       "      <td>-0.007070</td>\n",
       "      <td>0.033705</td>\n",
       "      <td>-0.044362</td>\n",
       "      <td>-0.008823</td>\n",
       "      <td>-0.011523</td>\n",
       "      <td>0.032835</td>\n",
       "      <td>-0.007096</td>\n",
       "      <td>0.033150</td>\n",
       "    </tr>\n",
       "    <tr>\n",
       "      <th>4</th>\n",
       "      <td>2015-01-08</td>\n",
       "      <td>14.27</td>\n",
       "      <td>14.15</td>\n",
       "      <td>5.905769</td>\n",
       "      <td>0.240000</td>\n",
       "      <td>10.995774</td>\n",
       "      <td>48.509998</td>\n",
       "      <td>-0.019244</td>\n",
       "      <td>-0.035447</td>\n",
       "      <td>0.016887</td>\n",
       "      <td>-0.007752</td>\n",
       "      <td>0.023220</td>\n",
       "      <td>0.007477</td>\n",
       "      <td>-0.019432</td>\n",
       "      <td>-0.036090</td>\n",
       "      <td>0.016746</td>\n",
       "      <td>-0.007782</td>\n",
       "      <td>0.022954</td>\n",
       "      <td>0.007449</td>\n",
       "    </tr>\n",
       "  </tbody>\n",
       "</table>\n",
       "</div>"
      ],
      "text/plain": [
       "         Date    GOL    CVC      WEGE      MGLU       TOTS       BOVA  \\\n",
       "0  2015-01-02  14.99  15.20  5.923076  0.232812  11.910702  47.259998   \n",
       "1  2015-01-05  14.85  15.00  5.963461  0.237187  11.544731  46.320000   \n",
       "2  2015-01-06  15.21  14.80  5.875000  0.234062  10.822770  46.580002   \n",
       "3  2015-01-07  14.55  14.67  5.807692  0.241875  10.746248  48.150002   \n",
       "4  2015-01-08  14.27  14.15  5.905769  0.240000  10.995774  48.509998   \n",
       "\n",
       "     RS GOL    RS CVC   RS WEGE   RS MGLU   RS TOTS   RS BOVA    RL GOL  \\\n",
       "0       NaN       NaN       NaN       NaN       NaN       NaN       NaN   \n",
       "1 -0.009340 -0.013158  0.006818  0.018792 -0.030726 -0.019890 -0.009383   \n",
       "2  0.024242 -0.013333 -0.014834 -0.013175 -0.062536  0.005613  0.023953   \n",
       "3 -0.043392 -0.008784 -0.011457  0.033380 -0.007070  0.033705 -0.044362   \n",
       "4 -0.019244 -0.035447  0.016887 -0.007752  0.023220  0.007477 -0.019432   \n",
       "\n",
       "     RL CVC   RL WEGE   RL MGLU   RL TOTS   RL BOVA  \n",
       "0       NaN       NaN       NaN       NaN       NaN  \n",
       "1 -0.013245  0.006795  0.018618 -0.031208 -0.020090  \n",
       "2 -0.013423 -0.014945 -0.013263 -0.064577  0.005597  \n",
       "3 -0.008823 -0.011523  0.032835 -0.007096  0.033150  \n",
       "4 -0.036090  0.016746 -0.007782  0.022954  0.007449  "
      ]
     },
     "execution_count": 60,
     "metadata": {},
     "output_type": "execute_result"
    }
   ],
   "source": [
    "dataset.head()"
   ]
  },
  {
   "cell_type": "code",
   "execution_count": 62,
   "id": "380f8019",
   "metadata": {},
   "outputs": [
    {
     "data": {
      "text/plain": [
       "-10.666639120526533"
      ]
     },
     "execution_count": 62,
     "metadata": {},
     "output_type": "execute_result"
    }
   ],
   "source": [
    "(dataset['RL CVC'].mean() * 246) * 100"
   ]
  },
  {
   "cell_type": "code",
   "execution_count": 63,
   "id": "20c60706",
   "metadata": {},
   "outputs": [
    {
     "data": {
      "text/plain": [
       "23.664350245802893"
      ]
     },
     "execution_count": 63,
     "metadata": {},
     "output_type": "execute_result"
    }
   ],
   "source": [
    "(dataset['RL WEGE'].mean() * 246) * 100"
   ]
  },
  {
   "cell_type": "code",
   "execution_count": 64,
   "id": "d14cb92a",
   "metadata": {},
   "outputs": [
    {
     "data": {
      "text/plain": [
       "37.11593309195955"
      ]
     },
     "execution_count": 64,
     "metadata": {},
     "output_type": "execute_result"
    }
   ],
   "source": [
    "(dataset['RL MGLU'].mean() * 246) * 100"
   ]
  },
  {
   "cell_type": "code",
   "execution_count": 65,
   "id": "2f8b16b3",
   "metadata": {},
   "outputs": [
    {
     "data": {
      "text/plain": [
       "12.388662096575905"
      ]
     },
     "execution_count": 65,
     "metadata": {},
     "output_type": "execute_result"
    }
   ],
   "source": [
    "(dataset['RL TOTS'].mean() * 246) * 100"
   ]
  },
  {
   "cell_type": "code",
   "execution_count": 66,
   "id": "065488ab",
   "metadata": {},
   "outputs": [
    {
     "data": {
      "text/plain": [
       "11.025398523774612"
      ]
     },
     "execution_count": 66,
     "metadata": {},
     "output_type": "execute_result"
    }
   ],
   "source": [
    "(dataset['RL BOVA'].mean() * 246) * 100"
   ]
  },
  {
   "cell_type": "code",
   "execution_count": null,
   "id": "bcfcc223",
   "metadata": {},
   "outputs": [],
   "source": []
  }
 ],
 "metadata": {
  "kernelspec": {
   "display_name": "Python 3 (ipykernel)",
   "language": "python",
   "name": "python3"
  },
  "language_info": {
   "codemirror_mode": {
    "name": "ipython",
    "version": 3
   },
   "file_extension": ".py",
   "mimetype": "text/x-python",
   "name": "python",
   "nbconvert_exporter": "python",
   "pygments_lexer": "ipython3",
   "version": "3.9.12"
  }
 },
 "nbformat": 4,
 "nbformat_minor": 5
}
